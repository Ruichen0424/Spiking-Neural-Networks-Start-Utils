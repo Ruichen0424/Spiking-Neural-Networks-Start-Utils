{
 "cells": [
  {
   "cell_type": "markdown",
   "id": "b5c36bad",
   "metadata": {},
   "source": [
    "## Network Test"
   ]
  },
  {
   "cell_type": "code",
   "execution_count": null,
   "id": "47608938",
   "metadata": {},
   "outputs": [],
   "source": [
    "from spikingjelly.activation_based import functional\n",
    "from BN_Free import Mul_ScaledWSConv2d\n",
    "\n",
    "# from SEW_Resnet_BN import *\n",
    "from SEW_Resnet_BF import *\n",
    "# from SEW_Resnet_None import *\n",
    "\n",
    "net = ResNet26(num_classes=10, imagenet=False, T=4)\n",
    "functional.set_step_mode(net, step_mode='m')\n",
    "net"
   ]
  },
  {
   "cell_type": "code",
   "execution_count": null,
   "id": "9be4e5f5",
   "metadata": {},
   "outputs": [],
   "source": [
    "# for m, n in net.named_modules():\n",
    "#     if isinstance(n, Mul_ScaledWSConv2d):\n",
    "#         print(f'{m}: \\nn.gamma = {n.gamma}\\n')"
   ]
  },
  {
   "cell_type": "code",
   "execution_count": null,
   "id": "c34f15c7",
   "metadata": {},
   "outputs": [],
   "source": [
    "Batch_size = 32\n",
    "\n",
    "data_in = torch.rand((Batch_size, 3, 32, 32))\n",
    "data_out = net(data_in)\n",
    "print(f'data_out.shape = {data_out.shape}')"
   ]
  },
  {
   "cell_type": "code",
   "execution_count": null,
   "id": "63c94e99",
   "metadata": {},
   "outputs": [],
   "source": [
    "net.layer3[0].conv1.weight"
   ]
  },
  {
   "cell_type": "code",
   "execution_count": null,
   "id": "92f92c73",
   "metadata": {},
   "outputs": [],
   "source": []
  }
 ],
 "metadata": {
  "kernelspec": {
   "display_name": "Python 3 (ipykernel)",
   "language": "python",
   "name": "python3"
  },
  "language_info": {
   "codemirror_mode": {
    "name": "ipython",
    "version": 3
   },
   "file_extension": ".py",
   "mimetype": "text/x-python",
   "name": "python",
   "nbconvert_exporter": "python",
   "pygments_lexer": "ipython3",
   "version": "3.9.17"
  }
 },
 "nbformat": 4,
 "nbformat_minor": 5
}
