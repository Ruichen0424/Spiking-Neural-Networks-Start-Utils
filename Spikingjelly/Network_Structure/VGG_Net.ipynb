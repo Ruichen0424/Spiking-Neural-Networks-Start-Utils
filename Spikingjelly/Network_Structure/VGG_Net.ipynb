{
 "cells": [
  {
   "cell_type": "markdown",
   "metadata": {},
   "source": [
    "## Network Test"
   ]
  },
  {
   "cell_type": "code",
   "execution_count": null,
   "metadata": {},
   "outputs": [],
   "source": [
    "from spikingjelly.activation_based import functional\n",
    "from VGG_Net import *\n",
    "\n",
    "# net = VGG_11(T=Timestep, num_classes=Targetnum)\n",
    "net = VGG_11_BF(T=4, num_classes=10)\n",
    "functional.set_step_mode(net, step_mode='m')"
   ]
  },
  {
   "cell_type": "code",
   "execution_count": null,
   "metadata": {},
   "outputs": [],
   "source": [
    "Batch_size = 128\n",
    "\n",
    "data_in = torch.rand((Batch_size, 3, 32, 32))\n",
    "data_out = net(data_in)\n",
    "print(f'data_out.shape = {data_out.shape}')\n",
    "net"
   ]
  },
  {
   "cell_type": "code",
   "execution_count": null,
   "metadata": {},
   "outputs": [],
   "source": [
    "net.linear1.bias"
   ]
  },
  {
   "cell_type": "code",
   "execution_count": null,
   "metadata": {},
   "outputs": [],
   "source": []
  }
 ],
 "metadata": {
  "kernelspec": {
   "display_name": "Python 3 (ipykernel)",
   "language": "python",
   "name": "python3"
  },
  "language_info": {
   "codemirror_mode": {
    "name": "ipython",
    "version": 3
   },
   "file_extension": ".py",
   "mimetype": "text/x-python",
   "name": "python",
   "nbconvert_exporter": "python",
   "pygments_lexer": "ipython3",
   "version": "3.9.17"
  }
 },
 "nbformat": 4,
 "nbformat_minor": 2
}
