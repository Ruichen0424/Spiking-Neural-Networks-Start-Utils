{
 "cells": [
  {
   "cell_type": "markdown",
   "metadata": {},
   "source": [
    "# Dataset Fusion"
   ]
  },
  {
   "cell_type": "markdown",
   "metadata": {},
   "source": [
    "## ImageNet and ES-ImageNet\n",
    "Output.shape:   \n",
    "Frame = [2, 224, 224], \n",
    "Fig = [3, 224, 224]\n",
    "\n",
    "Targetnum = 1000"
   ]
  },
  {
   "cell_type": "code",
   "execution_count": null,
   "metadata": {},
   "outputs": [],
   "source": [
    "import torch\n",
    "from es_imagenet import ImageNet_Fusion\n",
    "from torchvision import transforms\n",
    "\n",
    "Data_dvs_path = '/home/mrc/Datasets/DVS_ImageNet/'\n",
    "Data_fig_path = '/home/mrc/Datasets/ImageNet/'\n",
    "Batch_size = 128\n",
    "Workers = 12\n",
    "Targetnum = 1000\n",
    "Timestep = 8\n",
    "\n",
    "\n",
    "transform_train = transforms.Compose([\n",
    "    transforms.RandomResizedCrop(224, scale=(0.08, 1.0)),\n",
    "    # Lighting(0.1),\n",
    "    transforms.RandomHorizontalFlip(),\n",
    "    transforms.ToTensor(),\n",
    "    transforms.Normalize((0.485, 0.456, 0.406),(0.229, 0.224, 0.225))\n",
    "])\n",
    "\n",
    "transform_test = transforms.Compose([                      \n",
    "    transforms.Resize(256),\n",
    "    transforms.CenterCrop(224),\n",
    "    transforms.ToTensor(),\n",
    "    transforms.Normalize((0.485, 0.456, 0.406),(0.229, 0.224, 0.225))\n",
    "])\n",
    "\n",
    "Data_dvs_path = Data_dvs_path + '/extract/ES-imagenet-0.18/'\n",
    "Train_data = ImageNet_Fusion(train=True, fig=True, frame=True, data_dvs_path=Data_dvs_path, data_fig_path=Data_fig_path, transform=transform_train)\n",
    "Test_data = ImageNet_Fusion(train=False, fig=True, frame=True, data_dvs_path=Data_dvs_path, data_fig_path=Data_fig_path, transform=transform_test)\n",
    "\n",
    "train_data_loader = torch.utils.data.DataLoader(\n",
    "    dataset=Train_data,\n",
    "    batch_size=Batch_size,\n",
    "    shuffle=True,\n",
    "    num_workers=Workers, \n",
    "    pin_memory=True,\n",
    "    drop_last=True\n",
    ")\n",
    "\n",
    "test_data_loader = torch.utils.data.DataLoader(\n",
    "    dataset=Test_data,\n",
    "    batch_size=Batch_size,\n",
    "    shuffle=False,\n",
    "    num_workers=Workers, \n",
    "    pin_memory=True,\n",
    "    drop_last=False\n",
    ")"
   ]
  },
  {
   "cell_type": "markdown",
   "metadata": {},
   "source": [
    "## Fusion Image Display"
   ]
  },
  {
   "cell_type": "code",
   "execution_count": null,
   "metadata": {},
   "outputs": [],
   "source": [
    "import numpy as np\n",
    "import matplotlib.pyplot as plt\n",
    "from spikingjelly.datasets import play_frame\n",
    "\n",
    "data = Test_data\n",
    "random_integer = np.random.randint(0, len(data))\n",
    "\n",
    "# imgtype = 10\n",
    "# while data[random_integer][2] != imgtype:\n",
    "#     random_integer = np.random.randint(0, len(data))\n",
    "\n",
    "img_frame = data[random_integer][0]\n",
    "img_fig = data[random_integer][1].permute(1, 2, 0).numpy()\n",
    "# plt.imsave('test.png', img_fig)\n",
    "\n",
    "play_frame(img_frame, save_gif_to='test.gif')\n",
    "print(f'len(data) = {len(data)}')\n",
    "print(f'Display number = {random_integer}\\n')\n",
    "print(f'Frame data:\\n')\n",
    "print(f'img_frame.shape = {img_frame.shape}, img_frame.type = {data[random_integer][2]}')\n",
    "print(f'img_frame.max() = {img_frame.max()}, img_frame.min() = {img_frame.min()}\\n')\n",
    "\n",
    "for i in range(img_frame.shape[1]):\n",
    "    print(f'img_frame[{i}].mean() = {img_frame[:,i].mean()}, img[{i}].var() = {img_frame[:,i].var()}')\n",
    "\n",
    "plt.imshow(img_fig)\n",
    "plt.plot()\n",
    "print(f'\\nFig data:\\n')\n",
    "print(f'img_fig.shape = {img_fig.shape}, img_fig.type = {data[random_integer][2]}')\n",
    "print(f'img_fig.max() = {img_fig.max()}, img_fig.min() = {img_fig.min()}\\n')\n",
    "\n",
    "for i in range(img_fig.shape[2]):\n",
    "    print(f'img_fig[{i}].mean() = {img_fig[:,:,i].mean()}, img_fig[{i}].var() = {img_fig[:,:,i].var()}')"
   ]
  },
  {
   "cell_type": "markdown",
   "metadata": {},
   "source": [
    "## Speed Test"
   ]
  },
  {
   "cell_type": "code",
   "execution_count": null,
   "metadata": {},
   "outputs": [],
   "source": [
    "import time\n",
    "from tqdm import tqdm\n",
    "\n",
    "data_loader = train_data_loader\n",
    "\n",
    "start_time = time.time()\n",
    "for i, (img_frame, img_fig, label) in enumerate(tqdm(data_loader)):\n",
    "    continue\n",
    "print(f'img_frame.shape = {img_frame.shape}')\n",
    "print(f'img_fig.shape = {img_fig.shape}')\n",
    "print(f'Time used: {time.time() - start_time:.5f} s')"
   ]
  }
 ],
 "metadata": {
  "kernelspec": {
   "display_name": "Python 3 (ipykernel)",
   "language": "python",
   "name": "python3"
  },
  "language_info": {
   "codemirror_mode": {
    "name": "ipython",
    "version": 3
   },
   "file_extension": ".py",
   "mimetype": "text/x-python",
   "name": "python",
   "nbconvert_exporter": "python",
   "pygments_lexer": "ipython3",
   "version": "3.10.12"
  }
 },
 "nbformat": 4,
 "nbformat_minor": 4
}
